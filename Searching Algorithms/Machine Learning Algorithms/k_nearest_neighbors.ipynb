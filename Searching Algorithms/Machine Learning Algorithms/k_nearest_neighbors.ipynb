{
 "cells": [
  {
   "cell_type": "markdown",
   "id": "6e0f424e",
   "metadata": {},
   "source": [
    "# Import The Necessary Modules\n",
    "### K Nearest Neigbours Classifier\n",
    "### train_test_split, cross_val_score\n",
    "### iris data set\n",
    "### numpy"
   ]
  },
  {
   "cell_type": "code",
   "execution_count": 38,
   "id": "9eb3e704",
   "metadata": {},
   "outputs": [],
   "source": [
    "from sklearn.datasets import load_iris\n",
    "from sklearn.model_selection import train_test_split, cross_val_score\n",
    "from sklearn.neighbors import KNeighborsClassifier\n",
    "import numpy as np"
   ]
  },
  {
   "cell_type": "markdown",
   "id": "d61adeb1",
   "metadata": {},
   "source": [
    "#### Load and split the dataset"
   ]
  },
  {
   "cell_type": "code",
   "execution_count": 39,
   "id": "f6b7e773",
   "metadata": {},
   "outputs": [],
   "source": [
    "iris = load_iris()\n",
    "X_train, X_test, y_train, y_test = train_test_split(iris.data, iris.target, test_size=0.3, random_state=27)"
   ]
  },
  {
   "cell_type": "markdown",
   "id": "10767091",
   "metadata": {},
   "source": [
    "#### Create an instance of KNN"
   ]
  },
  {
   "cell_type": "code",
   "execution_count": 40,
   "id": "f09787e2",
   "metadata": {},
   "outputs": [],
   "source": [
    "knn = KNeighborsClassifier(n_neighbors=3)"
   ]
  },
  {
   "cell_type": "code",
   "execution_count": 41,
   "id": "2d54280c",
   "metadata": {},
   "outputs": [],
   "source": [
    "knn.fit(X_train, y_train)\n",
    "y_pred = knn.predict(X_test)"
   ]
  },
  {
   "cell_type": "code",
   "execution_count": 43,
   "id": "5679b139",
   "metadata": {},
   "outputs": [
    {
     "name": "stdout",
     "output_type": "stream",
     "text": [
      "Accuracy on normal training: 0.89\n",
      "Cross-validation scores: [0.95238095 1.         1.         1.         0.95238095]\n",
      "Mean cross-validation score: 0.98\n"
     ]
    }
   ],
   "source": [
    "print(f\"Accuracy on normal training: {np.sum(y_test==y_pred)/len(y_pred):.2f}\")\n",
    "print(f\"Cross-validation scores: {cross_val_score(knn, X_train, y_train, cv=5)}\")\n",
    "print(f\"Mean cross-validation score: {cross_val_score(knn, X_train, y_train, cv=5).mean():.2f}\")"
   ]
  },
  {
   "cell_type": "code",
   "execution_count": null,
   "id": "2ebc7c6f",
   "metadata": {},
   "outputs": [],
   "source": []
  },
  {
   "cell_type": "code",
   "execution_count": null,
   "id": "4ebd2be3",
   "metadata": {},
   "outputs": [],
   "source": []
  }
 ],
 "metadata": {
  "kernelspec": {
   "display_name": "Python 3 (ipykernel)",
   "language": "python",
   "name": "python3"
  },
  "language_info": {
   "codemirror_mode": {
    "name": "ipython",
    "version": 3
   },
   "file_extension": ".py",
   "mimetype": "text/x-python",
   "name": "python",
   "nbconvert_exporter": "python",
   "pygments_lexer": "ipython3",
   "version": "3.11.5"
  }
 },
 "nbformat": 4,
 "nbformat_minor": 5
}
